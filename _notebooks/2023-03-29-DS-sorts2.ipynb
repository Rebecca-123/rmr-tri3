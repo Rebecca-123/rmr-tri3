{
 "cells": [
  {
   "attachments": {},
   "cell_type": "markdown",
   "metadata": {},
   "source": [
    "# Sorts and Algo Rythmic part 2\n",
    "> Continue with Classes, Queues, performing Sorts and BigO analysis on your algorithm(s).\n",
    "\n",
    "- title: Sorts and Algo Rythmic part 2\n",
    "- toc: true\n",
    "- categories: []\n",
    "- image: /images/collection.jpg\n",
    "- type: ap\n",
    "- week: 28"
   ]
  },
  {
   "attachments": {},
   "cell_type": "markdown",
   "metadata": {},
   "source": [
    "## Algo Rythmics Presentation Week\n",
    "> This week student teams of at least 8 will do their Algor Rythmic perfornance."
   ]
  },
  {
   "attachments": {},
   "cell_type": "markdown",
   "metadata": {},
   "source": [
    "## Hacks\n",
    "> Build your favorite sort into your custom built collection.\n",
    "- Build sort as a method in you collection\n",
    "- Utilize Capabilities of Object overrides with toString and compareTo\n",
    "- Demostrate changing Sort keys with Statics"
   ]
  }
 ],
 "metadata": {
  "kernelspec": {
   "display_name": "Java",
   "language": "java",
   "name": "java"
  },
  "language_info": {
   "name": "java",
   "version": "3.9.12"
  },
  "orig_nbformat": 4,
  "vscode": {
   "interpreter": {
    "hash": "07efb0c17bd1bebb54bd0de05e4d4c769f7a564dddf5b4c65148f358f9195f99"
   }
  }
 },
 "nbformat": 4,
 "nbformat_minor": 2
}
