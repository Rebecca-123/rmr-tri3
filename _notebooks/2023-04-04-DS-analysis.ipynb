{
 "cells": [
  {
   "attachments": {},
   "cell_type": "markdown",
   "metadata": {},
   "source": [
    "# BigO Complexity\n",
    "> Perform analysis on sorts.   Compare List Collections to HashMaps.\n",
    "\n",
    "- title: Sort analysis and Hashmap comparision.\n",
    "- toc: true\n",
    "- categories: []\n",
    "- image: /images/collection.jpg\n",
    "- type: ap\n",
    "- week: 29"
   ]
  },
  {
   "attachments": {},
   "cell_type": "markdown",
   "metadata": {},
   "source": [
    "## Hacks\n",
    "> Analysis and the Big O complexity on Sorts.\n",
    "- Establish analytics including: time, comparisons and swaps.\n",
    "- Average the results for each each Sort, run each at least 12 times and 5000 elements.  You should throw out High and Low when doing analysis.\n",
    "- Make your final/judgement on best sort: Number of Comparisons, Number of Swaps, Big O complexity, and Total Time.  \n",
    "- Try to find/build two data sets (100 records, 1000 records).  See if there is any difference in analysis and you opinions based off of size.\n",
    "\n",
    "> Build Hashmap of similar data that is used in Sorts\n",
    "- Setup data in favorite sort and Hashmap to prepare for searching\n",
    "- Perform analysis on Binary Search\n",
    "- Perform analysis on Hashmap Lookup"
   ]
  }
 ],
 "metadata": {
  "kernelspec": {
   "display_name": "Python 3",
   "language": "python",
   "name": "python3"
  },
  "language_info": {
   "name": "python",
   "version": "3.9.12"
  },
  "orig_nbformat": 4,
  "vscode": {
   "interpreter": {
    "hash": "07efb0c17bd1bebb54bd0de05e4d4c769f7a564dddf5b4c65148f358f9195f99"
   }
  }
 },
 "nbformat": 4,
 "nbformat_minor": 2
}
